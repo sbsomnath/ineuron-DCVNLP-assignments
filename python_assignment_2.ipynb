{
  "nbformat": 4,
  "nbformat_minor": 0,
  "metadata": {
    "colab": {
      "name": "python assignment 2.ipynb",
      "provenance": []
    },
    "kernelspec": {
      "name": "python3",
      "display_name": "Python 3"
    }
  },
  "cells": [
    {
      "cell_type": "markdown",
      "metadata": {
        "id": "U_cToqd4a4Iw",
        "colab_type": "text"
      },
      "source": [
        "Create the below pattern using nested for loop in Python\n",
        "\n",
        "\n"
      ]
    },
    {
      "cell_type": "code",
      "metadata": {
        "id": "gnEhc45BJ8dM",
        "colab_type": "code",
        "colab": {
          "base_uri": "https://localhost:8080/",
          "height": 187
        },
        "outputId": "f1f4dd26-de69-4de2-8ec0-29db79caca45"
      },
      "source": [
        "for i in range(5):\n",
        "  print()\n",
        "  for j in range(i+1):\n",
        "    print(\"*\",end='')\n",
        "for i in range(4):\n",
        "  print()\n",
        "  for j in range((4-i)):\n",
        "    print(\"*\",end='')\n"
      ],
      "execution_count": 6,
      "outputs": [
        {
          "output_type": "stream",
          "text": [
            "\n",
            "*\n",
            "**\n",
            "***\n",
            "****\n",
            "*****\n",
            "****\n",
            "***\n",
            "**\n",
            "*"
          ],
          "name": "stdout"
        }
      ]
    },
    {
      "cell_type": "markdown",
      "metadata": {
        "id": "2NCs-U1ubUqx",
        "colab_type": "text"
      },
      "source": [
        "2. Write a Python program to reverse a word after accepting the input from the user. \n",
        "\n",
        "Sample Output: \n",
        "\n",
        "Input word: ineuron \n",
        "\n",
        "Output: norueni \n"
      ]
    },
    {
      "cell_type": "code",
      "metadata": {
        "id": "0TY35_k8beem",
        "colab_type": "code",
        "colab": {
          "base_uri": "https://localhost:8080/",
          "height": 51
        },
        "outputId": "9d0343e7-7431-4842-89f0-f32719188f66"
      },
      "source": [
        "word=input(\"Enter word: \")\n",
        "\n",
        "print(word[::-1])"
      ],
      "execution_count": 7,
      "outputs": [
        {
          "output_type": "stream",
          "text": [
            "Enter word: ineuron\n",
            "norueni\n"
          ],
          "name": "stdout"
        }
      ]
    }
  ]
}